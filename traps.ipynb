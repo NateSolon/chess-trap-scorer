{
 "cells": [
  {
   "cell_type": "markdown",
   "id": "63ef6919-0b16-446d-89cb-5cf0ac33ef67",
   "metadata": {},
   "source": [
    "![image.png](./images/chesstrapscorer.png)"
   ]
  },
  {
   "cell_type": "code",
   "execution_count": null,
   "id": "646ac75e-8dd2-4fcf-a887-9a086ac6b2e9",
   "metadata": {},
   "outputs": [],
   "source": [
    "import sys\n",
    "sys.path.append(\"../\") # go to parent dir\n",
    "%load_ext autoreload\n",
    "%autoreload 2"
   ]
  },
  {
   "cell_type": "code",
   "execution_count": null,
   "id": "5c5f2437-60f7-4858-b2bb-97ed0f0efa10",
   "metadata": {},
   "outputs": [],
   "source": [
    "from scorer import TrapScorer"
   ]
  },
  {
   "cell_type": "code",
   "execution_count": null,
   "id": "1cff3486-b030-452d-86a9-22d11d79b27d",
   "metadata": {},
   "outputs": [],
   "source": [
    "#Stafford Gambit 41.71%\n",
    "pgn = '1. e4 e5 2. Nf3 Nf6 3. Nxe5 Nc6 4. Nxc6 dxc6 5. d3 Bc5 6. Bg5'\n",
    "scorer = TrapScorer(pgn)\n",
    "scorer.print_output()"
   ]
  },
  {
   "cell_type": "code",
   "execution_count": null,
   "id": "b085f792-8868-4739-83ca-16d1afcd3a26",
   "metadata": {},
   "outputs": [],
   "source": [
    "#Fishing Pole 37.92\n",
    "pgn = '1. e4 e5 2. Nf3 Nc6 3. Bb5 Nf6 4. O-O Ng4 5. h3 h5 6. hxg4'\n",
    "scorer = TrapScorer(pgn)\n",
    "scorer.print_output()"
   ]
  },
  {
   "cell_type": "code",
   "execution_count": null,
   "id": "2cf66284-f5fc-4849-933f-5768676ccab6",
   "metadata": {},
   "outputs": [],
   "source": [
    "#Englund trap 39.04\n",
    "pgn = '1. d4 e5 2. dxe5 Nc6 3. Nf3 Qe7 4. Bf4 Qb4+ 5. Bd2 Qxb2 6. Bc3'\n",
    "scorer = TrapScorer(pgn)\n",
    "scorer.print_output()"
   ]
  },
  {
   "cell_type": "code",
   "execution_count": null,
   "id": "e3078b45-be8a-4ec7-a2a3-8f28b266f5e8",
   "metadata": {},
   "outputs": [],
   "source": [
    "# Lasker trap 34.99\n",
    "pgn = '1. d4 d5 2. c4 e5 3. dxe5 d4 4. e3 Bb4+ 5. Bd2 dxe3 6. Bxb4'\n",
    "scorer = TrapScorer(pgn)\n",
    "scorer.print_output()"
   ]
  },
  {
   "cell_type": "code",
   "execution_count": null,
   "id": "b0e64f57-76b8-47c2-8866-e940ecd0eaa0",
   "metadata": {},
   "outputs": [],
   "source": [
    "# Blackburn Schilling 35.82\n",
    "pgn = '1. e4 e5 2. Nf3 Nc6 3. Bc4 Nd4 4. Nxe5'\n",
    "scorer = TrapScorer(pgn)\n",
    "scorer.print_output()"
   ]
  },
  {
   "cell_type": "code",
   "execution_count": null,
   "id": "95244177-8614-4bd5-b831-76dfce061553",
   "metadata": {},
   "outputs": [],
   "source": [
    "#Legal's mate 32.26\n",
    "pgn = '1. e4 e5 2. Nf3 Nc6 3. Bc4 d6 4. Nc3 Bg4 5. h3 Bh5 6. Nxe5 Bxd1'\n",
    "scorer = TrapScorer(pgn)\n",
    "scorer.print_output()"
   ]
  },
  {
   "cell_type": "code",
   "execution_count": null,
   "id": "6eed16be-e887-4242-878b-b07db296236a",
   "metadata": {},
   "outputs": [],
   "source": [
    "#Noah's Ark 36.76\n",
    "pgn = '1. e4 e5 2. Nf3 Nc6 3. Bb5 a6 4. Ba4 d6 5. d4 b5 6. Bb3 Nxd4 7. Nxd4 exd4 8. Qxd4'\n",
    "scorer = TrapScorer(pgn)\n",
    "scorer.print_output()"
   ]
  },
  {
   "cell_type": "code",
   "execution_count": null,
   "id": "4dabf3c5-6206-49a7-b919-b87f1d572f43",
   "metadata": {},
   "outputs": [],
   "source": [
    "# Elephant (Cambridge Springs) 29.2\n",
    "pgn = '1. d4 d5 2. c4 e6 3. Nc3 Nf6 4. Bg5 Nbd7 5. cxd5 exd5 6. Nxd5 Nxd5 7. Bxd8'\n",
    "scorer = TrapScorer(pgn)\n",
    "scorer.print_output()"
   ]
  },
  {
   "cell_type": "code",
   "execution_count": null,
   "id": "5808a7f1-da1b-439b-9ac8-38c5dc13d97f",
   "metadata": {},
   "outputs": [],
   "source": [
    "# Siberian Trap\n",
    "pgn = '1. e4 c5 2. d4 cxd4 3. c3 dxc3 4. Nxc3 Nc6 5. Nf3 e6 6. Bc4 Qc7 7. 0-0 Nf6 8. Qe2 Ng4 9. h3'\n",
    "scorer = TrapScorer(pgn)\n",
    "scorer.print_output()"
   ]
  },
  {
   "cell_type": "code",
   "execution_count": null,
   "id": "46924aa2-1367-4b7f-b309-a7c93875e86c",
   "metadata": {},
   "outputs": [],
   "source": [
    "# Blackmar-Diemer\n",
    "pgn = '1.d4 d5 2.e4 dxe4 3.Nc3 Nf6 4.f3 exf3 5.Qf3 Qxd4 6. Be3 Qb4 7. 0-0-0 Bg4'\n",
    "scorer = TrapScorer(pgn)\n",
    "scorer.print_output()"
   ]
  },
  {
   "cell_type": "code",
   "execution_count": null,
   "id": "9f34e6a6-be4c-43aa-86fb-7e6a3f05177c",
   "metadata": {},
   "outputs": [],
   "source": [
    "# Mortimer\n",
    "pgn = '1. e4 e5 2. Nf3 Nc6 3. Bb5 Nf6 4. d3 Ne7 5. Nxe5'\n",
    "scorer = TrapScorer(pgn)\n",
    "scorer.print_output()"
   ]
  },
  {
   "cell_type": "code",
   "execution_count": null,
   "id": "dbde8880-fd3d-43de-aae7-5c3aecdce322",
   "metadata": {},
   "outputs": [],
   "source": []
  },
  {
   "cell_type": "code",
   "execution_count": null,
   "id": "6358ac70-65a8-4d6d-be30-9aca0a7910f4",
   "metadata": {},
   "outputs": [],
   "source": []
  },
  {
   "cell_type": "code",
   "execution_count": null,
   "id": "5840d4aa-737c-45eb-a146-893d6177573c",
   "metadata": {},
   "outputs": [],
   "source": []
  }
 ],
 "metadata": {
  "kernelspec": {
   "display_name": "Python 3 (ipykernel)",
   "language": "python",
   "name": "python3"
  },
  "language_info": {
   "codemirror_mode": {
    "name": "ipython",
    "version": 3
   },
   "file_extension": ".py",
   "mimetype": "text/x-python",
   "name": "python",
   "nbconvert_exporter": "python",
   "pygments_lexer": "ipython3",
   "version": "3.8.10"
  }
 },
 "nbformat": 4,
 "nbformat_minor": 5
}
